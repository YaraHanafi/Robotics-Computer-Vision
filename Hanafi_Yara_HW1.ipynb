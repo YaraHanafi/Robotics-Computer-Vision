{
  "cells": [
    {
      "cell_type": "code",
      "execution_count": 3,
      "metadata": {
        "colab": {
          "base_uri": "https://localhost:8080/"
        },
        "id": "_zauqCvPU-ga",
        "outputId": "857cd5ab-ae46-41d4-d809-778ff22d9f3c"
      },
      "outputs": [
        {
          "output_type": "stream",
          "name": "stdout",
          "text": [
            "The indices of independent columns are:\n",
            " (0, 1, 2)\n",
            "\n",
            "Rank is:\n",
            " 3\n"
          ]
        }
      ],
      "source": [
        "#Question 1, Python Program for number of independent columns\n",
        "import numpy as np\n",
        "from numpy.linalg import matrix_rank\n",
        "import sympy as sy\n",
        "A = np.array(\n",
        "    [\n",
        "        [-1.32,-0.18,2.13],\n",
        "        [2.64,-4.68,4.65],\n",
        "        [1.47,-4.75,6.80]\n",
        "    ])\n",
        "_, inds = sy.Matrix(A).rref()  #Finds indices of independent columns \n",
        "print(\"The indices of independent columns are:\\n\", inds)\n",
        "print(\"\\nRank is:\\n\", matrix_rank(A)) #Finds rank which determines number of independent columns"
      ]
    },
    {
      "cell_type": "code",
      "execution_count": 2,
      "metadata": {
        "colab": {
          "base_uri": "https://localhost:8080/"
        },
        "id": "Frj1yKuHU-gf",
        "outputId": "04ce9c4f-41eb-4dc9-fe57-7bd085c7ae00"
      },
      "outputs": [
        {
          "output_type": "stream",
          "name": "stdout",
          "text": [
            "y = -1.941x + 6.515\n"
          ]
        }
      ],
      "source": [
        "#Question 2,Least Square Estimation\n",
        "\n",
        "import numpy as np\n",
        "from numpy.linalg import inv\n",
        "\n",
        "# X and Y coordinates from problem description\n",
        "x = [-1, 2.5, 6.0, -3.5, 3.0, 8.5]\n",
        "y = [8.5, 3.0, -5.5, 13.0, 0.0, -10.0]\n",
        "\n",
        "# TODO: Form the A matrix and the b vector\n",
        "A = np.vstack([x, np.ones(len(x))]).T;\n",
        "b = np.vstack([y]).T;\n",
        "\n",
        "# TODO: Find the vector q\n",
        "q = np.dot((np.dot(np.linalg.inv(np.dot(A.T,A)),A.T)),b)\n",
        "q=np.vstack([q]);\n",
        "\n",
        "# Display computed q vector\n",
        "print('y = {0:2.3f}x + {1:2.3f}'.format(float(q[0]), float(q[1])))"
      ]
    },
    {
      "cell_type": "code",
      "metadata": {
        "id": "YbaPpJUTvQtw"
      },
      "source": [
        "#Question 6, Uncorrupted image and least squares\n",
        "import numpy as np\n",
        "from PIL import Image\n",
        "from numpy.linalg import inv\n",
        "import matplotlib.pyplot as plt\n",
        "from numpy import asarray"
      ],
      "execution_count": 4,
      "outputs": []
    },
    {
      "cell_type": "code",
      "metadata": {
        "id": "M5H_6suHvu2l",
        "colab": {
          "base_uri": "https://localhost:8080/",
          "height": 92
        },
        "outputId": "67636103-39e4-43f6-c547-4fe8b819ef84"
      },
      "source": [
        "# Load cguitar.tif from local machine into Colab instance\n",
        "# Note: You only need to run this once\n",
        "from google.colab import files\n",
        "\n",
        "uploaded = files.upload()\n",
        "for fn in uploaded.keys():\n",
        "  print('User uploaded file \"{name}\" with length {length} bytes'.format(\n",
        "      name=fn, length=len(uploaded[fn])))"
      ],
      "execution_count": 5,
      "outputs": [
        {
          "output_type": "display_data",
          "data": {
            "text/plain": [
              "<IPython.core.display.HTML object>"
            ],
            "text/html": [
              "\n",
              "     <input type=\"file\" id=\"files-6a0f3415-e445-4959-8f37-2af4c28ac335\" name=\"files[]\" multiple disabled\n",
              "        style=\"border:none\" />\n",
              "     <output id=\"result-6a0f3415-e445-4959-8f37-2af4c28ac335\">\n",
              "      Upload widget is only available when the cell has been executed in the\n",
              "      current browser session. Please rerun this cell to enable.\n",
              "      </output>\n",
              "      <script>// Copyright 2017 Google LLC\n",
              "//\n",
              "// Licensed under the Apache License, Version 2.0 (the \"License\");\n",
              "// you may not use this file except in compliance with the License.\n",
              "// You may obtain a copy of the License at\n",
              "//\n",
              "//      http://www.apache.org/licenses/LICENSE-2.0\n",
              "//\n",
              "// Unless required by applicable law or agreed to in writing, software\n",
              "// distributed under the License is distributed on an \"AS IS\" BASIS,\n",
              "// WITHOUT WARRANTIES OR CONDITIONS OF ANY KIND, either express or implied.\n",
              "// See the License for the specific language governing permissions and\n",
              "// limitations under the License.\n",
              "\n",
              "/**\n",
              " * @fileoverview Helpers for google.colab Python module.\n",
              " */\n",
              "(function(scope) {\n",
              "function span(text, styleAttributes = {}) {\n",
              "  const element = document.createElement('span');\n",
              "  element.textContent = text;\n",
              "  for (const key of Object.keys(styleAttributes)) {\n",
              "    element.style[key] = styleAttributes[key];\n",
              "  }\n",
              "  return element;\n",
              "}\n",
              "\n",
              "// Max number of bytes which will be uploaded at a time.\n",
              "const MAX_PAYLOAD_SIZE = 100 * 1024;\n",
              "\n",
              "function _uploadFiles(inputId, outputId) {\n",
              "  const steps = uploadFilesStep(inputId, outputId);\n",
              "  const outputElement = document.getElementById(outputId);\n",
              "  // Cache steps on the outputElement to make it available for the next call\n",
              "  // to uploadFilesContinue from Python.\n",
              "  outputElement.steps = steps;\n",
              "\n",
              "  return _uploadFilesContinue(outputId);\n",
              "}\n",
              "\n",
              "// This is roughly an async generator (not supported in the browser yet),\n",
              "// where there are multiple asynchronous steps and the Python side is going\n",
              "// to poll for completion of each step.\n",
              "// This uses a Promise to block the python side on completion of each step,\n",
              "// then passes the result of the previous step as the input to the next step.\n",
              "function _uploadFilesContinue(outputId) {\n",
              "  const outputElement = document.getElementById(outputId);\n",
              "  const steps = outputElement.steps;\n",
              "\n",
              "  const next = steps.next(outputElement.lastPromiseValue);\n",
              "  return Promise.resolve(next.value.promise).then((value) => {\n",
              "    // Cache the last promise value to make it available to the next\n",
              "    // step of the generator.\n",
              "    outputElement.lastPromiseValue = value;\n",
              "    return next.value.response;\n",
              "  });\n",
              "}\n",
              "\n",
              "/**\n",
              " * Generator function which is called between each async step of the upload\n",
              " * process.\n",
              " * @param {string} inputId Element ID of the input file picker element.\n",
              " * @param {string} outputId Element ID of the output display.\n",
              " * @return {!Iterable<!Object>} Iterable of next steps.\n",
              " */\n",
              "function* uploadFilesStep(inputId, outputId) {\n",
              "  const inputElement = document.getElementById(inputId);\n",
              "  inputElement.disabled = false;\n",
              "\n",
              "  const outputElement = document.getElementById(outputId);\n",
              "  outputElement.innerHTML = '';\n",
              "\n",
              "  const pickedPromise = new Promise((resolve) => {\n",
              "    inputElement.addEventListener('change', (e) => {\n",
              "      resolve(e.target.files);\n",
              "    });\n",
              "  });\n",
              "\n",
              "  const cancel = document.createElement('button');\n",
              "  inputElement.parentElement.appendChild(cancel);\n",
              "  cancel.textContent = 'Cancel upload';\n",
              "  const cancelPromise = new Promise((resolve) => {\n",
              "    cancel.onclick = () => {\n",
              "      resolve(null);\n",
              "    };\n",
              "  });\n",
              "\n",
              "  // Wait for the user to pick the files.\n",
              "  const files = yield {\n",
              "    promise: Promise.race([pickedPromise, cancelPromise]),\n",
              "    response: {\n",
              "      action: 'starting',\n",
              "    }\n",
              "  };\n",
              "\n",
              "  cancel.remove();\n",
              "\n",
              "  // Disable the input element since further picks are not allowed.\n",
              "  inputElement.disabled = true;\n",
              "\n",
              "  if (!files) {\n",
              "    return {\n",
              "      response: {\n",
              "        action: 'complete',\n",
              "      }\n",
              "    };\n",
              "  }\n",
              "\n",
              "  for (const file of files) {\n",
              "    const li = document.createElement('li');\n",
              "    li.append(span(file.name, {fontWeight: 'bold'}));\n",
              "    li.append(span(\n",
              "        `(${file.type || 'n/a'}) - ${file.size} bytes, ` +\n",
              "        `last modified: ${\n",
              "            file.lastModifiedDate ? file.lastModifiedDate.toLocaleDateString() :\n",
              "                                    'n/a'} - `));\n",
              "    const percent = span('0% done');\n",
              "    li.appendChild(percent);\n",
              "\n",
              "    outputElement.appendChild(li);\n",
              "\n",
              "    const fileDataPromise = new Promise((resolve) => {\n",
              "      const reader = new FileReader();\n",
              "      reader.onload = (e) => {\n",
              "        resolve(e.target.result);\n",
              "      };\n",
              "      reader.readAsArrayBuffer(file);\n",
              "    });\n",
              "    // Wait for the data to be ready.\n",
              "    let fileData = yield {\n",
              "      promise: fileDataPromise,\n",
              "      response: {\n",
              "        action: 'continue',\n",
              "      }\n",
              "    };\n",
              "\n",
              "    // Use a chunked sending to avoid message size limits. See b/62115660.\n",
              "    let position = 0;\n",
              "    do {\n",
              "      const length = Math.min(fileData.byteLength - position, MAX_PAYLOAD_SIZE);\n",
              "      const chunk = new Uint8Array(fileData, position, length);\n",
              "      position += length;\n",
              "\n",
              "      const base64 = btoa(String.fromCharCode.apply(null, chunk));\n",
              "      yield {\n",
              "        response: {\n",
              "          action: 'append',\n",
              "          file: file.name,\n",
              "          data: base64,\n",
              "        },\n",
              "      };\n",
              "\n",
              "      let percentDone = fileData.byteLength === 0 ?\n",
              "          100 :\n",
              "          Math.round((position / fileData.byteLength) * 100);\n",
              "      percent.textContent = `${percentDone}% done`;\n",
              "\n",
              "    } while (position < fileData.byteLength);\n",
              "  }\n",
              "\n",
              "  // All done.\n",
              "  yield {\n",
              "    response: {\n",
              "      action: 'complete',\n",
              "    }\n",
              "  };\n",
              "}\n",
              "\n",
              "scope.google = scope.google || {};\n",
              "scope.google.colab = scope.google.colab || {};\n",
              "scope.google.colab._files = {\n",
              "  _uploadFiles,\n",
              "  _uploadFilesContinue,\n",
              "};\n",
              "})(self);\n",
              "</script> "
            ]
          },
          "metadata": {}
        },
        {
          "output_type": "stream",
          "name": "stdout",
          "text": [
            "Saving cguitar.tif to cguitar.tif\n",
            "User uploaded file \"cguitar.tif\" with length 105324 bytes\n"
          ]
        }
      ]
    },
    {
      "cell_type": "code",
      "metadata": {
        "id": "TWEKeDynviyb"
      },
      "source": [
        "img = np.asarray(Image.open('cguitar.tif'))"
      ],
      "execution_count": 6,
      "outputs": []
    },
    {
      "cell_type": "code",
      "metadata": {
        "id": "OC6ZlK8-v92p",
        "colab": {
          "base_uri": "https://localhost:8080/",
          "height": 269
        },
        "outputId": "2202c2eb-c961-4b06-b06d-ec3a2b714776"
      },
      "source": [
        "# Hint: Use the following lines to display an image\n",
        "plt.imshow(img, cmap='gray')\n",
        "plt.show()"
      ],
      "execution_count": 7,
      "outputs": [
        {
          "output_type": "display_data",
          "data": {
            "text/plain": [
              "<Figure size 432x288 with 1 Axes>"
            ],
            "image/png": "[encoded data removed]"
          },
          "metadata": {
            "needs_background": "light"
          }
        }
      ]
    },
    {
      "cell_type": "code",
      "metadata": {
        "id": "Yd2AMbdhwDyg",
        "colab": {
          "base_uri": "https://localhost:8080/",
          "height": 519
        },
        "outputId": "b9aca53e-ed9e-46af-f2e2-423f976280dd"
      },
      "source": [
        "# TODO: Compute least-squares estimate from selected corrupt pixels\n",
        "#Convert image into array\n",
        "numpydata = asarray(img)\n",
        "origin_img = numpydata;\n",
        "\n",
        "#Generate the x, y coordinates of each pixel\n",
        "yx_coordinates = np.column_stack(np.where(img >= 0))\n",
        "\n",
        "#Create an empty 2d array the size of the image\n",
        "n = len(origin_img)\n",
        "m = len(origin_img[0])\n",
        "a = []\n",
        "for i in range(n):\n",
        "  a.append([0] * m)\n",
        "  for j in range(m):\n",
        "    a[i][j]=origin_img[i][j]\n",
        "\n",
        "#Fill the array(image) with the true white pixels \n",
        "for i in range(len(yx_coordinates)):\n",
        "  num = i;\n",
        "  x = yx_coordinates[i][1]\n",
        "  y = yx_coordinates[i][0]\n",
        "  if(y<250 and x<50):\n",
        "    a[y][x]=255  \n",
        "\n",
        "# The A matrix and the b vector\n",
        "A = np.vstack(a);\n",
        "b = np.vstack(origin_img);\n",
        "\n",
        "# Find vector q\n",
        "q = np.dot((np.dot(np.linalg.inv(np.dot(A.T,A)),A.T)),b)\n",
        "q=np.vstack([q]);\n",
        "\n",
        "# Display computed q vector\n",
        "print('Estimated Parameters and graph\\n', q)\n",
        "plt.imshow(q, cmap='gray')\n",
        "plt.show() "
      ],
      "execution_count": 8,
      "outputs": [
        {
          "output_type": "stream",
          "name": "stdout",
          "text": [
            "Estimated Parameters and graph\n",
            " [[-1.04197785e+00 -1.79701569e+00 -1.86506926e+00 ...  3.86270766e-08\n",
            "   3.55912504e-08  3.47093376e-08]\n",
            " [-1.23304653e+00 -5.63208930e-01 -1.14069596e+00 ... -1.56254925e-07\n",
            "  -1.54027678e-07 -1.52729996e-07]\n",
            " [ 7.12218613e-01  1.09369492e+00  1.65418917e+00 ...  9.25225283e-08\n",
            "   9.85410571e-08  9.64418705e-08]\n",
            " ...\n",
            " [-1.70823510e-01 -2.87703754e-01  1.75789662e-02 ...  9.99999999e-01\n",
            "  -2.70330291e-09 -2.01293870e-09]\n",
            " [ 8.56490774e-02  3.90027013e-01  1.32221483e-01 ...  1.01369402e-09\n",
            "   1.00000000e+00  1.51531587e-09]\n",
            " [-7.06284237e-01 -8.38977279e-01 -6.52362579e-01 ... -1.32662548e-09\n",
            "  -9.89269333e-10  9.99999999e-01]]\n"
          ]
        },
        {
          "output_type": "display_data",
          "data": {
            "text/plain": [
              "<Figure size 432x288 with 1 Axes>"
            ],
            "image/png": "[encoded data removed]"
          },
          "metadata": {
            "needs_background": "light"
          }
        }
      ]
    },
    {
      "cell_type": "code",
      "metadata": {
        "id": "uu5VI-FpGpB_",
        "colab": {
          "base_uri": "https://localhost:8080/"
        },
        "outputId": "7f2f5159-3a45-4494-8aa9-c04e2fc01c41"
      },
      "source": [
        "# TODO: Undo the image corruption\n",
        "g=np.linalg.inv(q)\n",
        "g = np.dot(b,g)\n",
        "print(g)\n",
        "\n"
      ],
      "execution_count": 9,
      "outputs": [
        {
          "output_type": "stream",
          "name": "stdout",
          "text": [
            "[[304.7801213  304.77140869 305.38334668 ... 151.00000038 150.00000038\n",
            "  150.00000038]\n",
            " [  4.46299611   3.28987395   0.78367342 ... 150.99999992 149.99999993\n",
            "  148.99999993]\n",
            " [311.06555949 311.20227986 311.70952794 ... 150.00000037 150.00000037\n",
            "  149.00000036]\n",
            " ...\n",
            " [148.51412335 148.25133223 147.82708764 ...  21.00000014  21.00000014\n",
            "   20.00000014]\n",
            " [215.66311772 215.50055006 215.7114774  ...  21.00000025  20.00000025\n",
            "   20.00000025]\n",
            " [166.65843899 166.44337907 166.1517205  ...  21.00000015  20.00000015\n",
            "   20.00000015]]\n"
          ]
        }
      ]
    },
    {
      "cell_type": "code",
      "metadata": {
        "id": "SJTAyNoMHmjH",
        "colab": {
          "base_uri": "https://localhost:8080/",
          "height": 269
        },
        "outputId": "ee91f62e-2f8e-433d-c5cb-3bf7971d4397"
      },
      "source": [
        "# TODO: Display the uncorrupted image\n",
        "plt.imshow(g, cmap='gray')\n",
        "plt.show() "
      ],
      "execution_count": 10,
      "outputs": [
        {
          "output_type": "display_data",
          "data": {
            "text/plain": [
              "<Figure size 432x288 with 1 Axes>"
            ],
            "image/png": "[encoded data removed]"
          },
          "metadata": {
            "needs_background": "light"
          }
        }
      ]
    },
    {
      "cell_type": "code",
      "metadata": {
        "id": "_S4orPxMwQ7p"
      },
      "source": [
        "#Question 7, Extra Credit\n",
        "import numpy as np\n",
        "import math\n",
        "from numpy.linalg import svd\n",
        "import matplotlib.pyplot as plt"
      ],
      "execution_count": 11,
      "outputs": []
    },
    {
      "cell_type": "code",
      "metadata": {
        "id": "OcTf5Eepwj4T"
      },
      "source": [
        "# Create X and Y coordinates for ellipse\n",
        "# TODO: Play around with these values to understand what each variable means\n",
        "a, b = 100, 500\n",
        "\n",
        "t = np.arange(0, 100, 0.01)\n",
        "\n",
        "x = a*np.sin(t)\n",
        "y = b*np.cos(t)"
      ],
      "execution_count": 12,
      "outputs": []
    },
    {
      "cell_type": "code",
      "metadata": {
        "id": "65J8iQ5Gwuht",
        "colab": {
          "base_uri": "https://localhost:8080/",
          "height": 265
        },
        "outputId": "b4c3a9de-65d4-4b64-84b2-7ac7a3c08c42"
      },
      "source": [
        "# Display the ellipse\n",
        "plt.plot(x, y, '*-')\n",
        "plt.show()"
      ],
      "execution_count": 13,
      "outputs": [
        {
          "output_type": "display_data",
          "data": {
            "text/plain": [
              "<Figure size 432x288 with 1 Axes>"
            ],
            "image/png": "[encoded data removed]"
          },
          "metadata": {
            "needs_background": "light"
          }
        }
      ]
    },
    {
      "cell_type": "code",
      "metadata": {
        "id": "EV9WWAmkwvUl"
      },
      "source": [
        "# Rotate the points of the ellipse\n",
        "cc = np.cos(np.pi / 3)\n",
        "ss = np.sin(np.pi / 3)\n",
        "\n",
        "R = np.array([[cc, ss],\n",
        "              [-ss, cc]])\n",
        "\n",
        "pts = np.stack((x, y))\n",
        "\n",
        "rpts = np.dot(R, pts)"
      ],
      "execution_count": 14,
      "outputs": []
    },
    {
      "cell_type": "code",
      "metadata": {
        "id": "5wZA9Ho9x9OF",
        "colab": {
          "base_uri": "https://localhost:8080/"
        },
        "outputId": "547c4029-b46b-4558-bbf7-5346207c4bbe"
      },
      "source": [
        "rpts.shape"
      ],
      "execution_count": 15,
      "outputs": [
        {
          "output_type": "execute_result",
          "data": {
            "text/plain": [
              "(2, 10000)"
            ]
          },
          "metadata": {},
          "execution_count": 15
        }
      ]
    },
    {
      "cell_type": "code",
      "metadata": {
        "id": "RfPB60xBxSIG",
        "colab": {
          "base_uri": "https://localhost:8080/"
        },
        "outputId": "9651b14e-31cf-4805-a3a0-3f5333611889"
      },
      "source": [
        "# TODO: Compute the rotated angle in radians and degrees from rpts\n",
        "\n",
        "#Performing SVD\n",
        "#Matrices U and V causes rotation\n",
        "#Diagonal matrix D causes scaling\n",
        "U, D, VT = np.linalg.svd(rpts)\n",
        "arctan = U[0][0]/U[1][0]\n",
        "print('Angle in radians ', arctan)\n",
        "d = math.degrees(arctan)\n",
        "print('Angle in degrees: ', d)\n",
        "\n",
        "# TODO: Change the rotation angle and repeat computation\n",
        "# Rotate the points of the ellipse\n",
        "ccc = np.cos(np.pi / 6)\n",
        "sss = np.sin(np.pi / 6)\n",
        "R = np.array([[ccc, sss],\n",
        "              [-sss, ccc]])\n",
        "pts = np.stack((x, y))\n",
        "rpts2 = np.dot(R, pts)\n",
        "\n",
        "U, D, VT = np.linalg.svd(rpts2)\n",
        "arctan = U[0][0]/U[1][0]\n",
        "print('\\nAngle in radians after rotation change: ', arctan)\n",
        "d = math.degrees(arctan)\n",
        "print('Angle in degrees after rotation change: ', d)"
      ],
      "execution_count": 16,
      "outputs": [
        {
          "output_type": "stream",
          "name": "stdout",
          "text": [
            "Angle in radians  1.7342361739504721\n",
            "Angle in degrees:  99.36441344627774\n",
            "\n",
            "Angle in radians after rotation change:  0.5780782653857952\n",
            "Angle in degrees after rotation change:  33.12144483484961\n"
          ]
        }
      ]
    },
    {
      "cell_type": "code",
      "metadata": {
        "id": "aPft9zxgxvpm",
        "colab": {
          "base_uri": "https://localhost:8080/",
          "height": 265
        },
        "outputId": "4c07e88f-12e1-4472-d51a-9ada39868aa2"
      },
      "source": [
        "# Rotate original points based on estimate\n",
        "est_rot_angle = np.pi / 6\n",
        "cc = np.cos(est_rot_angle)\n",
        "ss = np.sin(est_rot_angle)\n",
        "\n",
        "R = np.array([[cc, ss],\n",
        "              [-ss, cc]])\n",
        "\n",
        "pts = np.stack((x, y))\n",
        "\n",
        "est_rpts = np.dot(R, pts)\n",
        "\n",
        "# Display results\n",
        "plt.plot(rpts[0,:], rpts[1,:], 'b*',  alpha=0.01, label='original')\n",
        "plt.plot(est_rpts[0,:], est_rpts[1,:], 'r*', alpha=0.01, label='estimate')\n",
        "# TODO: add legend\n",
        "plt.legend(loc='upper left')\n",
        "\n",
        "#lt.ylim(-1.5, 2.0)\n",
        "plt.show()"
      ],
      "execution_count": 17,
      "outputs": [
        {
          "output_type": "display_data",
          "data": {
            "text/plain": [
              "<Figure size 432x288 with 1 Axes>"
            ],
            "image/png": "[encoded data removed]"
          },
          "metadata": {
            "needs_background": "light"
          }
        }
      ]
    },
    {
      "cell_type": "code",
      "metadata": {
        "id": "bALOBe0tyG1P"
      },
      "source": [],
      "execution_count": null,
      "outputs": []
    },
    {
      "cell_type": "markdown",
      "metadata": {
        "id": "sssauqoWU-gg"
      },
      "source": []
    }
  ],
  "metadata": {
    "kernelspec": {
      "display_name": "Python 3.9.12 ('base')",
      "language": "python",
      "name": "python3"
    },
    "language_info": {
      "codemirror_mode": {
        "name": "ipython",
        "version": 3
      },
      "file_extension": ".py",
      "mimetype": "text/x-python",
      "name": "python",
      "nbconvert_exporter": "python",
      "pygments_lexer": "ipython3",
      "version": "3.9.12"
    },
    "orig_nbformat": 4,
    "vscode": {
      "interpreter": {
        "hash": "e40353638c48f16405d4065f9bc14bbda8dc63b757a74536f803e815e03cdcd6"
      }
    },
    "colab": {
      "provenance": []
    }
  },
  "nbformat": 4,
  "nbformat_minor": 0
}